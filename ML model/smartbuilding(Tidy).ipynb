{
 "cells": [
  {
   "cell_type": "markdown",
   "metadata": {},
   "source": [
    "# Final Project"
   ]
  },
  {
   "cell_type": "code",
   "execution_count": 2,
   "metadata": {},
   "outputs": [],
   "source": [
    "import numpy as np\n",
    "import pandas as pd\n",
    "import matplotlib.pyplot as plt\n",
    "import seaborn as sns\n",
    "\n",
    "# from pathlib import Path"
   ]
  },
  {
   "cell_type": "code",
   "execution_count": 3,
   "metadata": {},
   "outputs": [
    {
     "data": {
      "text/html": [
       "<div>\n",
       "<style scoped>\n",
       "    .dataframe tbody tr th:only-of-type {\n",
       "        vertical-align: middle;\n",
       "    }\n",
       "\n",
       "    .dataframe tbody tr th {\n",
       "        vertical-align: top;\n",
       "    }\n",
       "\n",
       "    .dataframe thead th {\n",
       "        text-align: right;\n",
       "    }\n",
       "</style>\n",
       "<table border=\"1\" class=\"dataframe\">\n",
       "  <thead>\n",
       "    <tr style=\"text-align: right;\">\n",
       "      <th></th>\n",
       "      <th>light</th>\n",
       "      <th>temperature</th>\n",
       "      <th>co2</th>\n",
       "      <th>pir</th>\n",
       "      <th>humidity</th>\n",
       "      <th>room</th>\n",
       "      <th>weekday</th>\n",
       "      <th>time</th>\n",
       "    </tr>\n",
       "  </thead>\n",
       "  <tbody>\n",
       "    <tr>\n",
       "      <th>0</th>\n",
       "      <td>97.0</td>\n",
       "      <td>23.94</td>\n",
       "      <td>495.0</td>\n",
       "      <td>0</td>\n",
       "      <td>45.34</td>\n",
       "      <td>413</td>\n",
       "      <td>2</td>\n",
       "      <td>1</td>\n",
       "    </tr>\n",
       "    <tr>\n",
       "      <th>1</th>\n",
       "      <td>6.0</td>\n",
       "      <td>25.18</td>\n",
       "      <td>476.0</td>\n",
       "      <td>0</td>\n",
       "      <td>47.90</td>\n",
       "      <td>413</td>\n",
       "      <td>1</td>\n",
       "      <td>5</td>\n",
       "    </tr>\n",
       "    <tr>\n",
       "      <th>2</th>\n",
       "      <td>5.0</td>\n",
       "      <td>25.00</td>\n",
       "      <td>463.0</td>\n",
       "      <td>0</td>\n",
       "      <td>47.93</td>\n",
       "      <td>413</td>\n",
       "      <td>1</td>\n",
       "      <td>6</td>\n",
       "    </tr>\n",
       "    <tr>\n",
       "      <th>3</th>\n",
       "      <td>4.0</td>\n",
       "      <td>24.85</td>\n",
       "      <td>448.0</td>\n",
       "      <td>0</td>\n",
       "      <td>48.16</td>\n",
       "      <td>413</td>\n",
       "      <td>1</td>\n",
       "      <td>6</td>\n",
       "    </tr>\n",
       "    <tr>\n",
       "      <th>4</th>\n",
       "      <td>5.0</td>\n",
       "      <td>24.59</td>\n",
       "      <td>456.0</td>\n",
       "      <td>0</td>\n",
       "      <td>48.32</td>\n",
       "      <td>413</td>\n",
       "      <td>1</td>\n",
       "      <td>7</td>\n",
       "    </tr>\n",
       "  </tbody>\n",
       "</table>\n",
       "</div>"
      ],
      "text/plain": [
       "   light  temperature    co2  pir  humidity room  weekday  time\n",
       "0   97.0        23.94  495.0    0     45.34  413        2     1\n",
       "1    6.0        25.18  476.0    0     47.90  413        1     5\n",
       "2    5.0        25.00  463.0    0     47.93  413        1     6\n",
       "3    4.0        24.85  448.0    0     48.16  413        1     6\n",
       "4    5.0        24.59  456.0    0     48.32  413        1     7"
      ]
     },
     "execution_count": 3,
     "metadata": {},
     "output_type": "execute_result"
    }
   ],
   "source": [
    "new_data = pd.read_csv(\"smart_building_cleaned.csv\", sep=\",\")\n",
    "\n",
    "new_data.head()"
   ]
  },
  {
   "cell_type": "markdown",
   "metadata": {},
   "source": [
    "## Modeling"
   ]
  },
  {
   "cell_type": "code",
   "execution_count": 4,
   "metadata": {},
   "outputs": [],
   "source": [
    "from sklearn.ensemble import AdaBoostClassifier, RandomForestClassifier\n",
    "from sklearn.tree import DecisionTreeClassifier\n",
    "from sklearn.model_selection import train_test_split, GridSearchCV\n",
    "from sklearn.metrics import make_scorer, accuracy_score, precision_score, recall_score, fbeta_score, f1_score, classification_report\n",
    "import pickle"
   ]
  },
  {
   "cell_type": "code",
   "execution_count": 5,
   "metadata": {},
   "outputs": [],
   "source": [
    "X = new_data.drop(columns=[\"pir\", \"room\"], axis=1)\n",
    "y = new_data[\"pir\"]\n",
    "X_train, X_test, y_train, y_test = train_test_split(X, y, test_size=0.3, random_state=40)"
   ]
  },
  {
   "cell_type": "code",
   "execution_count": 6,
   "metadata": {},
   "outputs": [],
   "source": [
    "def metrics(name, ypred):\n",
    "    class_report = classification_report(y_test, ypred)\n",
    "    \n",
    "    # Displaying Classification Score\n",
    "    print(f\"\\nThe Classification Score is:\\n{class_report}\")\n",
    "    \n",
    "    acc = round(accuracy_score(y_test, ypred), 2)\n",
    "    prec = round(precision_score(y_test, ypred), 1)\n",
    "    recall = round(recall_score(y_test, ypred), 2)\n",
    "    f1 = round(f1_score(y_test, ypred), 2)\n",
    "    f05 = round(fbeta_score(y_test, ypred, beta=0.5), 2)\n",
    "\n",
    "    print(f\"These are the results for {name}\")\n",
    "    print(f\"Accuracy: {acc}\\nPrecision: {prec}\\nRecall: {recall}\\nF1 Score: {f1}\\nF0.5 Score: {f05}\")\n",
    "    return acc, prec, recall, "
   ]
  },
  {
   "cell_type": "markdown",
   "metadata": {},
   "source": [
    "### AdaBoost Classifier"
   ]
  },
  {
   "cell_type": "code",
   "execution_count": 7,
   "metadata": {},
   "outputs": [
    {
     "name": "stderr",
     "output_type": "stream",
     "text": [
      "d:\\Anaconda\\Installation\\lib\\site-packages\\sklearn\\ensemble\\_base.py:166: FutureWarning: `base_estimator` was renamed to `estimator` in version 1.2 and will be removed in 1.4.\n",
      "  warnings.warn(\n"
     ]
    },
    {
     "name": "stdout",
     "output_type": "stream",
     "text": [
      "\n",
      "The Classification Score is:\n",
      "              precision    recall  f1-score   support\n",
      "\n",
      "           0       1.00      1.00      1.00     35944\n",
      "           1       1.00      1.00      1.00      2535\n",
      "\n",
      "    accuracy                           1.00     38479\n",
      "   macro avg       1.00      1.00      1.00     38479\n",
      "weighted avg       1.00      1.00      1.00     38479\n",
      "\n",
      "These are the results for Adaboost\n",
      "Accuracy: 1.0\n",
      "Precision: 1.0\n",
      "Recall: 1.0\n",
      "F1 Score: 1.0\n",
      "F0.5 Score: 1.0\n"
     ]
    },
    {
     "data": {
      "text/plain": [
       "(1.0, 1.0, 1.0)"
      ]
     },
     "execution_count": 7,
     "metadata": {},
     "output_type": "execute_result"
    }
   ],
   "source": [
    "ada_model = AdaBoostClassifier(base_estimator=RandomForestClassifier(), n_estimators=10, learning_rate=0.01, random_state=40)\n",
    "ada_model.fit(X_test, y_test)\n",
    "ada_pred = ada_model.predict(X_test)\n",
    "\n",
    "metrics(\"Adaboost\", ada_pred)"
   ]
  },
  {
   "cell_type": "code",
   "execution_count": 12,
   "metadata": {},
   "outputs": [
    {
     "name": "stdout",
     "output_type": "stream",
     "text": [
      "the pred is [1]\n"
     ]
    },
    {
     "name": "stderr",
     "output_type": "stream",
     "text": [
      "d:\\Anaconda\\Installation\\lib\\site-packages\\sklearn\\base.py:409: UserWarning: X does not have valid feature names, but AdaBoostClassifier was fitted with feature names\n",
      "  warnings.warn(\n"
     ]
    }
   ],
   "source": [
    "z=ada_model.predict([[52.0,23.4,590.0,55.01,1,21]])\n",
    "print(f\"the pred is {z}\")"
   ]
  },
  {
   "cell_type": "code",
   "execution_count": 8,
   "metadata": {},
   "outputs": [],
   "source": [
    "#saving model\n",
    "filename = 'trained_adaboost_model.pkl'\n",
    "pickle.dump(ada_model, open(filename, 'wb'))"
   ]
  }
 ],
 "metadata": {
  "kernelspec": {
   "display_name": "Python 3.9.12 ('base')",
   "language": "python",
   "name": "python3"
  },
  "language_info": {
   "codemirror_mode": {
    "name": "ipython",
    "version": 3
   },
   "file_extension": ".py",
   "mimetype": "text/x-python",
   "name": "python",
   "nbconvert_exporter": "python",
   "pygments_lexer": "ipython3",
   "version": "3.9.16"
  },
  "orig_nbformat": 4,
  "vscode": {
   "interpreter": {
    "hash": "f28bfb4324f669a89cc099f355fc57127f6b173621f9e30f28a12375bb1be415"
   }
  }
 },
 "nbformat": 4,
 "nbformat_minor": 2
}
